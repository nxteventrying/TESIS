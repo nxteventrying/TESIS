{
 "cells": [
  {
   "cell_type": "code",
   "execution_count": 1,
   "id": "f6be7ecd",
   "metadata": {},
   "outputs": [],
   "source": [
    "import sys\n",
    "import pathlib\n",
    "\n",
    "# Get project root (parent of generation/)\n",
    "project_root = pathlib.Path().resolve().parent\n",
    "sys.path.insert(0, str(project_root))"
   ]
  },
  {
   "cell_type": "code",
   "execution_count": null,
   "id": "e8f1e273",
   "metadata": {},
   "outputs": [],
   "source": [
    "logger_params = {\n",
    "    \"main_folder\": \"/home/think/Desktop/UNRELEASED\",\n",
    "    \"experiment_name\": \"Lyapunov flexible\",\n",
    "    \"date\": \"2025-09-03\",\n",
    "    \"iteration\": 1,\n",
    "    \"description\": (\n",
    "        \"Se va a hacer una version de genesis.py que\" \n",
    "        \"sea capaz de generar conjuntos con un espectro de \" \n",
    "        \"lyapunov mas diverso\"\n",
    "    )\n",
    "}"
   ]
  },
  {
   "cell_type": "code",
   "execution_count": null,
   "id": "5cffee9e",
   "metadata": {},
   "outputs": [],
   "source": [
    "features_set_2 = pd.read_csv(features_folder / \"chaos_features_set_2.csv\")"
   ]
  },
  {
   "cell_type": "code",
   "execution_count": null,
   "id": "c15b7542",
   "metadata": {},
   "outputs": [],
   "source": []
  },
  {
   "cell_type": "code",
   "execution_count": null,
   "id": "f126daff",
   "metadata": {},
   "outputs": [],
   "source": []
  },
  {
   "cell_type": "code",
   "execution_count": null,
   "id": "1d42dc24",
   "metadata": {},
   "outputs": [],
   "source": []
  }
 ],
 "metadata": {
  "kernelspec": {
   "display_name": "base",
   "language": "python",
   "name": "python3"
  },
  "language_info": {
   "codemirror_mode": {
    "name": "ipython",
    "version": 3
   },
   "file_extension": ".py",
   "mimetype": "text/x-python",
   "name": "python",
   "nbconvert_exporter": "python",
   "pygments_lexer": "ipython3",
   "version": "3.12.4"
  }
 },
 "nbformat": 4,
 "nbformat_minor": 5
}
