{
 "cells": [
  {
   "cell_type": "markdown",
   "id": "a41d40d5",
   "metadata": {},
   "source": [
    "# LSTM"
   ]
  },
  {
   "cell_type": "code",
   "execution_count": null,
   "id": "9831653a",
   "metadata": {},
   "outputs": [],
   "source": []
  },
  {
   "cell_type": "code",
   "execution_count": null,
   "id": "934a44d9",
   "metadata": {},
   "outputs": [],
   "source": [
    "# Rossler from Scratch\n",
    "\n",
    "from math import sqrt\n",
    "from numpy import split\n",
    "from numpy import array\n",
    "from pandas import read_csv\n",
    "from sklearn.metrics import mean_squared_error\n",
    "from matplotlib import pyplot\n",
    "from keras.models import Sequential\n",
    "from keras.layers import Dense\n",
    "from keras.layers import LSTM\n",
    "from keras.layers import RepeatVector\n",
    "from keras.layers import TimeDistributed\n",
    "import matplotlib.pyplot as plt"
   ]
  },
  {
   "cell_type": "code",
   "execution_count": null,
   "id": "4c311be9",
   "metadata": {},
   "outputs": [],
   "source": [
    "### Loading Libraries and Data"
   ]
  },
  {
   "cell_type": "code",
   "execution_count": null,
   "id": "9e33cd66",
   "metadata": {},
   "outputs": [],
   "source": [
    "### Rossler sample\n",
    "\n",
    "#rossler_sample_1 = all_x20[all_x20['id'] == 1].copy()\n",
    "#rossler_sample_1 = all_x20.loc[ all_x20['id'] == 1, ['x', 'y'] ].copy()\n",
    "rossler_sample_1 = all_x20.loc[ all_x20['id'] == 1, ['x'] ].copy()\n",
    "\n",
    "rossler_sample_1.head()"
   ]
  },
  {
   "cell_type": "code",
   "execution_count": null,
   "id": "8dad03d7",
   "metadata": {},
   "outputs": [],
   "source": [
    "rossler_sample_1['x'].plot()\n",
    "plt.show()"
   ]
  },
  {
   "cell_type": "markdown",
   "id": "3f973220",
   "metadata": {},
   "source": [
    "### Data Preparation"
   ]
  },
  {
   "cell_type": "code",
   "execution_count": null,
   "id": "1350e18e",
   "metadata": {},
   "outputs": [],
   "source": [
    "# Apply a MinMaxScaler\n",
    "from sklearn.preprocessing import MinMaxScaler\n",
    "scaler = MinMaxScaler()\n",
    "df = pd.DataFrame(scaler.fit_transform(rossler_sample_1), columns = ['x'])"
   ]
  },
  {
   "cell_type": "code",
   "execution_count": null,
   "id": "df343dfc",
   "metadata": {},
   "outputs": [],
   "source": [
    "df['x'].head(10)"
   ]
  },
  {
   "cell_type": "code",
   "execution_count": null,
   "id": "b93f9e9d",
   "metadata": {},
   "outputs": [],
   "source": [
    "# Preparing the sequence data\n",
    "ylist = list(df['x'])\n",
    "\n",
    "n_future = 10\n",
    "n_past = 10\n",
    "total_period = 2 * 10 \n",
    "\n",
    "idx_end = len(ylist)\n",
    "idx_start = idx_end - total_period\n",
    "\n",
    "X_new = []\n",
    "y_new = []\n",
    "\n",
    "while idx_start > 0:\n",
    "  x_line = ylist[idx_start:idx_start+n_past]\n",
    "  y_line = ylist[idx_start+n_past:idx_start+total_period]\n",
    "\n",
    "  X_new.append(x_line)\n",
    "  y_new.append(y_line)\n",
    "\n",
    "  idx_start = idx_start - 1\n",
    "\n",
    "# converting list of lists to numpy array\n",
    "import numpy as np\n",
    "X_new = np.array(X_new)\n",
    "y_new = np.array(y_new)"
   ]
  },
  {
   "cell_type": "code",
   "execution_count": null,
   "id": "b8efe8d4",
   "metadata": {},
   "outputs": [],
   "source": [
    "# after your while‑loop and conversion to numpy\n",
    "X_new = X_new[::-1]\n",
    "y_new = y_new[::-1]"
   ]
  },
  {
   "cell_type": "code",
   "execution_count": null,
   "id": "1ddf5119",
   "metadata": {},
   "outputs": [],
   "source": [
    "X_new[0]"
   ]
  },
  {
   "cell_type": "code",
   "execution_count": null,
   "id": "82994f14",
   "metadata": {},
   "outputs": [],
   "source": [
    "X_new[1]"
   ]
  },
  {
   "cell_type": "code",
   "execution_count": null,
   "id": "ad580f37",
   "metadata": {},
   "outputs": [],
   "source": [
    "y_new[0]"
   ]
  },
  {
   "cell_type": "code",
   "execution_count": null,
   "id": "65542228",
   "metadata": {},
   "outputs": [],
   "source": [
    "# suppose X_new and y_new are already in chronological order\n",
    "n = len(X_new)\n",
    "train_end = int(0.95 * n)\n",
    "\n",
    "X_train = X_new[:train_end]\n",
    "y_train = y_new[:train_end]\n",
    "\n",
    "X_test  = X_new[train_end:]\n",
    "y_test  = y_new[train_end:]"
   ]
  },
  {
   "cell_type": "code",
   "execution_count": null,
   "id": "bff932bd",
   "metadata": {},
   "outputs": [],
   "source": [
    "X_train"
   ]
  },
  {
   "cell_type": "code",
   "execution_count": null,
   "id": "59ad5a65",
   "metadata": {},
   "outputs": [],
   "source": [
    "y_train"
   ]
  },
  {
   "cell_type": "code",
   "execution_count": null,
   "id": "07fbded8",
   "metadata": {},
   "outputs": [],
   "source": [
    "# Reshape the data to be recognized by Keras\n",
    "\n",
    "batch_size = 32\n",
    "\n",
    "n_samples = X_train.shape[0]\n",
    "n_timesteps = X_train.shape[1]\n",
    "n_steps = y_train.shape[1]\n",
    "n_features = 1\n",
    "\n",
    "X_train_rs = X_train.reshape(n_samples, n_timesteps, n_features)\n",
    "X_test_rs = X_test.reshape(X_test.shape[0], n_timesteps, n_features)"
   ]
  },
  {
   "cell_type": "markdown",
   "id": "1e7a7e00",
   "metadata": {},
   "source": [
    "### Model 1"
   ]
  },
  {
   "cell_type": "code",
   "execution_count": null,
   "id": "a69a5c2d",
   "metadata": {},
   "outputs": [],
   "source": [
    "\n",
    "# One-Layer LSTM\n",
    "import random\n",
    "from tensorflow.keras.models import Sequential\n",
    "from tensorflow.keras.layers import Dense, LSTM\n",
    "\n",
    "random.seed(42)\n",
    "\n",
    "batch_size = 32\n",
    "\n",
    "git add"
   ]
  },
  {
   "cell_type": "markdown",
   "id": "1f3d413a",
   "metadata": {},
   "source": [
    "### Model 2"
   ]
  },
  {
   "cell_type": "code",
   "execution_count": null,
   "id": "fbee6780",
   "metadata": {},
   "outputs": [],
   "source": [
    "### Model 2\n",
    "\n",
    "from tensorflow.keras.layers import Input, Add\n",
    "from tensorflow.keras.models import Model\n",
    "\n",
    "inputs = Input(shape=(n_timesteps, n_features))\n",
    "x = LSTM(64, activation='tanh')(inputs)\n",
    "y = Dense(y_train.shape[1])(x)\n",
    "\n",
    "# Residual connection (assumes shapes match)\n",
    "residual = Dense(y_train.shape[1])(inputs[:, -1, :])  # last timestep\n",
    "output = Add()([y, residual])\n",
    "\n",
    "model_2 = Model(inputs, output)"
   ]
  },
  {
   "cell_type": "markdown",
   "id": "5dcd0f5d",
   "metadata": {},
   "source": [
    "### Model 3"
   ]
  },
  {
   "cell_type": "code",
   "execution_count": null,
   "id": "c6d3e0d3",
   "metadata": {},
   "outputs": [],
   "source": [
    "from tensorflow.keras.layers import Bidirectional\n",
    "\n",
    "model = Sequential([\n",
    "    Bidirectional(LSTM(64, activation='tanh'), input_shape=(n_timesteps, n_features)),\n",
    "    Dense(y_train.shape[1])\n",
    "])\n"
   ]
  },
  {
   "cell_type": "markdown",
   "id": "b62be910",
   "metadata": {},
   "source": [
    "### Model 4"
   ]
  },
  {
   "cell_type": "code",
   "execution_count": null,
   "id": "2fbff22e",
   "metadata": {},
   "outputs": [],
   "source": [
    "from tensorflow.keras.layers import Conv1D, LSTM, Flatten\n",
    "\n",
    "model = Sequential([\n",
    "    Conv1D(filters=32, kernel_size=3, activation='relu', input_shape=(n_timesteps, n_features)),\n",
    "    LSTM(64),\n",
    "    Dense(y_train.shape[1])\n",
    "])"
   ]
  },
  {
   "cell_type": "markdown",
   "id": "81f50486",
   "metadata": {},
   "source": [
    "\n",
    "### Model 5"
   ]
  },
  {
   "cell_type": "code",
   "execution_count": null,
   "id": "35e41458",
   "metadata": {},
   "outputs": [],
   "source": [
    "from tensorflow.keras.layers import RepeatVector, TimeDistributed\n",
    "\n",
    "model = Sequential([\n",
    "    LSTM(64, activation='tanh', input_shape=(n_timesteps, n_features)),\n",
    "    RepeatVector(1),  # since we forecast one step\n",
    "    LSTM(64, activation='tanh', return_sequences=True),\n",
    "    TimeDistributed(Dense(y_train.shape[1]))\n",
    "])\n"
   ]
  },
  {
   "cell_type": "markdown",
   "id": "b10c4f05",
   "metadata": {},
   "source": [
    "### Model not included"
   ]
  },
  {
   "cell_type": "code",
   "execution_count": null,
   "id": "a0986010",
   "metadata": {},
   "outputs": [],
   "source": [
    "\n",
    "from tensorflow.keras.models import Sequential\n",
    "from tensorflow.keras.layers import LSTM, RepeatVector, TimeDistributed, Dense, Dropout\n",
    "\n",
    "model = Sequential([\n",
    "    # encoder\n",
    "    LSTM(128, activation='tanh', input_shape=(n_timesteps, n_features)),\n",
    "    Dropout(0.2),\n",
    "    RepeatVector(n_timesteps),            # repeat latent for each future step\n",
    "\n",
    "    # decoder\n",
    "    LSTM(128, activation='tanh', return_sequences=True),\n",
    "    Dropout(0.2),\n",
    "    TimeDistributed(Dense(64, activation='relu')),\n",
    "    TimeDistributed(Dense(1)),             # one output per timestep\n",
    "])\n",
    "model.compile('adam', loss='mae')"
   ]
  },
  {
   "cell_type": "markdown",
   "id": "b17168fa",
   "metadata": {},
   "source": [
    "### Beast Model"
   ]
  },
  {
   "cell_type": "code",
   "execution_count": null,
   "id": "d15bde22",
   "metadata": {},
   "outputs": [],
   "source": [
    "import tensorflow as tf\n",
    "from tensorflow import keras\n",
    "from tensorflow.keras.layers import (\n",
    "    Input, Conv1D, LayerNormalization,\n",
    "    Bidirectional, LSTM, Dropout, Attention,\n",
    "    Add, Dense\n",
    ")\n",
    "from tensorflow.keras.models import Model\n",
    "\n",
    "# --- Define the beast ---\n",
    "inputs = Input(shape=(n_timesteps, n_features))\n",
    "\n",
    "# 1) Local feature extraction\n",
    "x = Conv1D(64, kernel_size=3, padding='same', activation='relu')(inputs)\n",
    "x = LayerNormalization()(x)\n",
    "\n",
    "# 2) First bidirectional LSTM stack\n",
    "x_enc = Bidirectional(LSTM(128, return_sequences=True))(x)\n",
    "x_enc = Dropout(0.3)(x_enc)\n",
    "\n",
    "# 3) Self-attention over all timesteps\n",
    "attn = Attention()([x_enc, x_enc])\n",
    "x_res1 = Add()([x_enc, attn])             # Residual connection\n",
    "\n",
    "# 4) Second bidirectional LSTM (encoder→decoder style)\n",
    "x_dec = Bidirectional(LSTM(64, return_sequences=False))(x_res1)\n",
    "x_dec = Dropout(0.3)(x_dec)\n",
    "\n",
    "# 5) Residual skip from last input timestep\n",
    "skip = Dense(y_train.shape[1])(inputs[:, -1, :])\n",
    "\n",
    "# 6) Final projection + residual\n",
    "out_dense = Dense(y_train.shape[1])(x_dec)\n",
    "outputs = Add()([out_dense, skip])\n",
    "\n",
    "beast_model = Model(inputs=inputs, outputs=outputs, name=\"BeastLSTM\")"
   ]
  },
  {
   "cell_type": "markdown",
   "id": "add9a4a0",
   "metadata": {},
   "source": [
    "### Model initialization"
   ]
  },
  {
   "cell_type": "code",
   "execution_count": null,
   "id": "6765f79d",
   "metadata": {},
   "outputs": [],
   "source": [
    "current_model = model_1"
   ]
  },
  {
   "cell_type": "code",
   "execution_count": null,
   "id": "d7311a54",
   "metadata": {},
   "outputs": [],
   "source": [
    "current_model.summary()"
   ]
  },
  {
   "cell_type": "code",
   "execution_count": null,
   "id": "3c8e16e0",
   "metadata": {},
   "outputs": [],
   "source": [
    "import keras\n",
    "\n",
    "current_model.compile(\n",
    "    optimizer=keras.optimizers.Adam(learning_rate=0.01),\n",
    "    loss='mean_absolute_error',\n",
    "    metrics=['mean_absolute_error'],\n",
    ")"
   ]
  },
  {
   "cell_type": "code",
   "execution_count": null,
   "id": "37f7ded2",
   "metadata": {},
   "outputs": [],
   "source": [
    "from tensorflow.keras.callbacks import ReduceLROnPlateau, EarlyStopping\n",
    "\n",
    "callbacks = [\n",
    "    ReduceLROnPlateau(monitor='val_loss', factor=0.5, patience=5, min_lr=1e-6),\n",
    "    EarlyStopping(monitor='val_loss', patience=15, restore_best_weights=True)\n",
    "]"
   ]
  },
  {
   "cell_type": "code",
   "execution_count": null,
   "id": "ca285877",
   "metadata": {},
   "outputs": [],
   "source": [
    "smod_history = current_model.fit(X_train_rs, y_train,\n",
    "                                validation_split=0.2,\n",
    "                                epochs=100,\n",
    "                                batch_size=batch_size,\n",
    "                                shuffle = False,\n",
    "                                callbacks = callbacks,\n",
    "                                verbose = 1\n",
    "                                )"
   ]
  },
  {
   "cell_type": "markdown",
   "id": "da88d795",
   "metadata": {},
   "source": [
    "### One step to one step forecasting"
   ]
  },
  {
   "cell_type": "code",
   "execution_count": null,
   "id": "aa658510",
   "metadata": {},
   "outputs": [],
   "source": [
    "X_test  = X_new[train_end:]\n",
    "y_test  = y_new[train_end:]"
   ]
  },
  {
   "cell_type": "code",
   "execution_count": null,
   "id": "b4cf77e4",
   "metadata": {},
   "outputs": [],
   "source": [
    "X_test_rs = X_test.reshape(X_test.shape[0], n_timesteps, n_features)"
   ]
  },
  {
   "cell_type": "code",
   "execution_count": null,
   "id": "3068baf6",
   "metadata": {},
   "outputs": [],
   "source": [
    "X_test_rs"
   ]
  },
  {
   "cell_type": "code",
   "execution_count": null,
   "id": "09c91ab7",
   "metadata": {},
   "outputs": [],
   "source": [
    "y_test"
   ]
  },
  {
   "cell_type": "code",
   "execution_count": null,
   "id": "0b4f93c4",
   "metadata": {},
   "outputs": [],
   "source": [
    "0.2802436\n"
   ]
  },
  {
   "cell_type": "code",
   "execution_count": null,
   "id": "68260f64",
   "metadata": {},
   "outputs": [],
   "source": [
    "# demonstrate prediction\n",
    "x_input = array([0.2802436])\n",
    "x_input = x_input.reshape((1, n_steps))\n",
    "yhat = beast_model.predict(x_input, verbose=0)"
   ]
  },
  {
   "cell_type": "code",
   "execution_count": null,
   "id": "ffcded87",
   "metadata": {},
   "outputs": [],
   "source": [
    "print(yhat)"
   ]
  },
  {
   "cell_type": "code",
   "execution_count": null,
   "id": "b327fc9c",
   "metadata": {},
   "outputs": [],
   "source": [
    "0.28430681"
   ]
  },
  {
   "cell_type": "code",
   "execution_count": null,
   "id": "94dfa611",
   "metadata": {},
   "outputs": [],
   "source": [
    "X_test_rs.shape"
   ]
  },
  {
   "cell_type": "code",
   "execution_count": null,
   "id": "ba82888e",
   "metadata": {},
   "outputs": [],
   "source": [
    "X_test_rs[:50, 0, :]\n",
    "#X_test_rs[1,:]"
   ]
  },
  {
   "cell_type": "code",
   "execution_count": null,
   "id": "54ced881",
   "metadata": {},
   "outputs": [],
   "source": [
    "y_test[:50,0]"
   ]
  },
  {
   "cell_type": "code",
   "execution_count": null,
   "id": "a20a1ee1",
   "metadata": {},
   "outputs": [],
   "source": [
    "yupi = X_test_rs[:50, 0, :]"
   ]
  },
  {
   "cell_type": "code",
   "execution_count": null,
   "id": "6d68d0ed",
   "metadata": {},
   "outputs": [],
   "source": [
    "len(yupi)e"
   ]
  },
  {
   "cell_type": "code",
   "execution_count": null,
   "id": "7c623500",
   "metadata": {},
   "outputs": [],
   "source": [
    "yupi[0].reshape((1, n_steps)) "
   ]
  },
  {
   "cell_type": "code",
   "execution_count": null,
   "id": "af18954a",
   "metadata": {},
   "outputs": [],
   "source": [
    "y_test[:50]"
   ]
  },
  {
   "cell_type": "code",
   "execution_count": null,
   "id": "83cc4881",
   "metadata": {},
   "outputs": [],
   "source": [
    "len(X_test_rs)"
   ]
  },
  {
   "cell_type": "code",
   "execution_count": null,
   "id": "4dce1d48",
   "metadata": {},
   "outputs": [],
   "source": [
    "# Initialize input andlight caffeine blend list to store predictions\n",
    "x_input = X_test_rs[0].reshape((1, n_steps))  # start with the first value\n",
    "predictions = []\n",
    "\n",
    "# Loop to predict one step at a time\n",
    "for i in range(len(X_test_rs)):\n",
    "    yhat = beast_model.predict(x_input, verbose=0)\n",
    "    predictions.append(yhat[0, 0])\n",
    "    \n",
    "    # update input to next step — use prediction as input\n",
    "    x_input = yhat.reshape((1, n_steps))\n",
    "\n",
    "# Convert predictions to numpy arr\n",
    "predictions = np.array(predictions)"
   ]
  },
  {
   "cell_type": "code",
   "execution_count": null,
   "id": "cc54d97e",
   "metadata": {},
   "outputs": [],
   "source": [
    "# Plot\n",
    "plt.plot(y_test, label='Original (last 20)', marker='o')\n",
    "plt.plot(predictions, label='Predicted', marker='x')\n",
    "plt.legend()\n",
    "plt.title('One-Step Recursive Forecasting')\n",
    "plt.xlim(0,5)\n",
    "plt.show()"
   ]
  },
  {
   "cell_type": "code",
   "execution_count": null,
   "id": "ee70216a",
   "metadata": {},
   "outputs": [],
   "source": [
    "predictions.shape"
   ]
  },
  {
   "cell_type": "code",
   "execution_count": null,
   "id": "f6d29d59",
   "metadata": {},
   "outputs": [],
   "source": [
    "y_test = y_test.reshape((500,))\n",
    "#y_test.shape"
   ]
  },
  {
   "cell_type": "code",
   "execution_count": null,
   "id": "c3054151",
   "metadata": {},
   "outputs": [],
   "source": [
    "true = y_test\n",
    "pred = predictions"
   ]
  },
  {
   "cell_type": "code",
   "execution_count": null,
   "id": "40a929b9",
   "metadata": {},
   "outputs": [],
   "source": [
    "from sklearn import metrics\n",
    "from scipy.stats import skew\n",
    "import numpy as np\n",
    "\n",
    "metric_dict = {\n",
    "    \"MAE\": metrics.mean_absolute_error(true, pred),\n",
    "    \"MSE\": metrics.mean_squared_error(true, pred),\n",
    "    \"RMSE\": np.sqrt(metrics.mean_squared_error(true, pred)),\n",
    "    \"R2\": metrics.r2_score(true, pred),\n",
    "    \"Explained Variance\": metrics.explained_variance_score(true, pred),\n",
    "    \"Max Error\": metrics.max_error(true, pred),\n",
    "    \"Median AE\": metrics.median_absolute_error(true, pred),\n",
    "    \"Mean Bias\": np.mean(pred - true),\n",
    "    \"Mean Forecast\": np.mean(pred),\n",
    "    \"Mean Ground Truth\": np.mean(true),\n",
    "    \"Std Forecast\": np.std(pred),\n",
    "    \"Std Ground Truth\": np.std(true),\n",
    "    \"MASE\": np.mean(np.abs(pred - true)) / np.mean(np.abs(np.diff(true))),\n",
    "    \"MAPE\": np.mean(np.abs((true - pred) / true)) * 100 if np.all(true != 0) else np.nan,\n",
    "    \"SMAPE\": 100 * np.mean(2 * np.abs(pred - true) / (np.abs(pred) + np.abs(true))),\n",
    "    \"NRMSE\": np.sqrt(metrics.mean_squared_error(true, pred)) / (np.max(true) - np.min(true)),\n",
    "    \"Cosine Similarity\": metrics.pairwise.cosine_similarity(true.reshape(1, -1), pred.reshape(1, -1))[0, 0],\n",
    "    \"Pearson r\": np.corrcoef(true, pred)[0, 1],\n",
    "    \"Skew True\": skew(true),\n",
    "    \"Skew Pred\": skew(pred),\n",
    "}"
   ]
  },
  {
   "cell_type": "code",
   "execution_count": null,
   "id": "1d4ae2db",
   "metadata": {},
   "outputs": [],
   "source": [
    "print(\"📊 Forecast Evaluation Metrics (Last 20 Points):\\n\")\n",
    "for name, val in metric_dict.items():\n",
    "    print(f\"{name:<20}: {val:.6f}\")"
   ]
  },
  {
   "cell_type": "code",
   "execution_count": null,
   "id": "bacbc40f",
   "metadata": {},
   "outputs": [],
   "source": [
    "### Sewquence to one step forecasting"
   ]
  },
  {
   "cell_type": "code",
   "execution_count": null,
   "id": "d06326ee",
   "metadata": {},
   "outputs": [],
   "source": [
    "X_test_rs[0]"
   ]
  },
  {
   "cell_type": "code",
   "execution_count": null,
   "id": "131bcdcd",
   "metadata": {},
   "outputs": [],
   "source": [
    "X_test_rs[1]"
   ]
  },
  {
   "cell_type": "code",
   "execution_count": null,
   "id": "dd6d0f62",
   "metadata": {},
   "outputs": [],
   "source": [
    "y_test[0]"
   ]
  },
  {
   "cell_type": "code",
   "execution_count": null,
   "id": "2de1ef85",
   "metadata": {},
   "outputs": [],
   "source": [
    "y_test[1]"
   ]
  },
  {
   "cell_type": "code",
   "execution_count": null,
   "id": "ad8a4537",
   "metadata": {},
   "outputs": [],
   "source": [
    "X_test_rs[0].shape"
   ]
  },
  {
   "cell_type": "code",
   "execution_count": null,
   "id": "e437dea5",
   "metadata": {},
   "outputs": [],
   "source": [
    "# demonstrate prediction\n",
    "x_input = X_test_rs[0]\n",
    "x_input = x_input.reshape((1, n_steps))\n",
    "yhat = current_model.predict(x_input, verbose=0)"
   ]
  },
  {
   "cell_type": "code",
   "execution_count": null,
   "id": "dc19ea73",
   "metadata": {},
   "outputs": [],
   "source": [
    "X_test_rs[0].shape"
   ]
  },
  {
   "cell_type": "code",
   "execution_count": null,
   "id": "8fff46a4",
   "metadata": {},
   "outputs": [],
   "source": [
    "yhat[0].shape"
   ]
  },
  {
   "cell_type": "code",
   "execution_count": null,
   "id": "0acd028f",
   "metadata": {},
   "outputs": [],
   "source": [
    "print(yhat)"
   ]
  },
  {
   "cell_type": "code",
   "execution_count": null,
   "id": "6fab0e8b",
   "metadata": {},
   "outputs": [],
   "source": [
    "y_test[0]"
   ]
  },
  {
   "cell_type": "code",
   "execution_count": null,
   "id": "22e12f55",
   "metadata": {},
   "outputs": [],
   "source": [
    "plt.plot(y_test[0], color='r', label = 'real')\n",
    "plt.plot(yhat[0], color = 'blue', label = 'predicted')\n",
    "plt.legend()\n",
    "plt.grid()\n",
    "plt.show()"
   ]
  },
  {
   "cell_type": "markdown",
   "id": "2caec499",
   "metadata": {},
   "source": [
    "### Beast Model"
   ]
  },
  {
   "cell_type": "code",
   "execution_count": null,
   "id": "c286ce70",
   "metadata": {},
   "outputs": [],
   "source": [
    "# --- Compile as requested ---\n",
    "model.compile(\n",
    "    optimizer=keras.optimizers.Adam(learning_rate=0.01),\n",
    "    loss='mean_absolute_error',\n",
    "    metrics=['mean_absolute_error'],\n",
    ")"
   ]
  },
  {
   "cell_type": "code",
   "execution_count": null,
   "id": "2e8a3e65",
   "metadata": {},
   "outputs": [],
   "source": [
    "# --- Fit as requested ---\n",
    "smod_history = model.fit(\n",
    "    X_train_rs, y_train,\n",
    "    validation_split=0.2,\n",
    "    epochs=100,\n",
    "    batch_size=batch_size,\n",
    "    shuffle=False\n",
    ")"
   ]
  },
  {
   "cell_type": "code",
   "execution_count": null,
   "id": "87b0d455",
   "metadata": {},
   "outputs": [],
   "source": [
    "### INterpreting model\n",
    "\n",
    "plt.plot(smod_history.history['loss'])\n",
    "plt.plot(smod_history.history['val_loss'])\n",
    "plt.title('model loss')\n",
    "plt.xlabel('epoch')\n",
    "plt.legend(['train', 'val'], loc='upper left')\n",
    "plt.show()"
   ]
  },
  {
   "cell_type": "code",
   "execution_count": null,
   "id": "688d80f5",
   "metadata": {},
   "outputs": [],
   "source": [
    "preds = model.predict(X_test_rs)\n",
    "\n",
    "# flatten to 1D\n",
    "y_pred = preds.ravel()\n",
    "y_true = y_test.ravel()\n",
    "\n",
    "# if they correspond to time steps t = t0, t0+1, ..., t0+1999\n",
    "t = np.arange(len(y_pred))\n",
    "\n",
    "plt.figure(figsize=(12,4))\n",
    "plt.plot(t, y_true, label='actual', linewidth=1)\n",
    "plt.plot(t, y_pred, label='predicted', linewidth=1, alpha=0.8)\n",
    "plt.xlabel('Time step')\n",
    "plt.ylabel('Value')\n",
    "plt.legend()\n",
    "plt.grid()\n",
    "plt.show()\n",
    "\n",
    "plt.figure(figsize=(6,6))\n",
    "plt.scatter(y_true, y_pred, s=10, alpha=0.3)\n",
    "plt.plot([y_true.min(), y_true.max()],\n",
    "         [y_true.min(), y_true.max()],\n",
    "         'r--', linewidth=1, label='perfect')\n",
    "plt.xlabel('Actual')\n",
    "plt.ylabel('Predicted')\n",
    "plt.legend()\n",
    "plt.grid()\n",
    "plt.show()"
   ]
  },
  {
   "cell_type": "code",
   "execution_count": null,
   "id": "5915a62d",
   "metadata": {},
   "outputs": [],
   "source": [
    "from sklearn.metrics import r2_score\n",
    "print(r2_score(preds,y_test))"
   ]
  },
  {
   "cell_type": "code",
   "execution_count": null,
   "id": "4e1ad50c",
   "metadata": {},
   "outputs": [],
   "source": [
    "### One Step Forecasting\n",
    "\n",
    "import numpy as np\n",
    "from sklearn.metrics import mean_absolute_error\n",
    "import matplotlib.pyplot as plt\n",
    "\n",
    "# Assume simple_model is your trained one-step LSTM,\n",
    "# X_test_rs has shape (2000, 1, 1), and\n",
    "# y_test has shape (2000, 1).\n",
    "\n",
    "# 1. Grab the very first test input (seed) and the next 20 true points\n",
    "seed_window = X_test_rs[0].reshape(-1)   # shape (1,) → just the single last observed point\n",
    "true_continuation = y_test[:2].ravel()  # the next 20 true points, y_test[0]..y_test[19]\n",
    "\n",
    "# 2. Iteratively forecast\n",
    "horizon = 2\n",
    "preds_iter = []\n",
    "current_input = seed_window.copy()       # will update this each step\n",
    "\n",
    "for i in range(horizon):\n",
    "    # model.predict expects shape (batch, timesteps, features)\n",
    "    x_in = current_input.reshape(1, 1, 1)\n",
    "    y_hat = model.predict(x_in, verbose=0)[0, 0]\n",
    "    preds_iter.append(y_hat)\n",
    "\n",
    "    # slide the window: drop oldest point, append prediction\n",
    "    current_input = np.array([y_hat])\n",
    "\n",
    "preds_iter = np.array(preds_iter)\n",
    "\n",
    "# 3. Compute error metrics\n",
    "mae20 = mean_absolute_error(true_continuation, preds_iter)\n",
    "print(f\"MAE over {horizon}-step iterative forecast: {mae20:.4f}\")\n",
    "\n",
    "# 4. Plot true vs. predicted over the 20-step horizon\n",
    "plt.figure(figsize=(8,3))\n",
    "steps = np.arange(1, horizon+1)\n",
    "plt.plot(steps, true_continuation, 'o-', label='true')\n",
    "plt.plot(steps, preds_iter, 's--', label='iterative pred')\n",
    "plt.xlabel('Forecast step')\n",
    "plt.ylabel('Value')\n",
    "plt.title(f'20-step Iterative Forecast (MAE={mae20:.4f})')\n",
    "plt.legend()\n",
    "plt.grid(True)\n",
    "plt.show()"
   ]
  }
 ],
 "metadata": {
  "language_info": {
   "name": "python"
  }
 },
 "nbformat": 4,
 "nbformat_minor": 5
}
