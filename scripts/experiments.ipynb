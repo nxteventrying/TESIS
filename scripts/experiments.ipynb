{
 "cells": [
  {
   "cell_type": "code",
   "execution_count": 1,
   "metadata": {},
   "outputs": [],
   "source": [
    "import os\n",
    "import time\n",
    "import json\n",
    "import numpy as np\n",
    "from utils.helpers import sys_params_gen as params_gen\n",
    "from utils.helpers import initial_conditions_gen as ic_gen\n",
    "from data_generation.binder import Binder  \n",
    "from data_generation.tsdg import Sistema  \n",
    "from tqdm import tqdm"
   ]
  },
  {
   "cell_type": "code",
   "execution_count": 2,
   "metadata": {},
   "outputs": [],
   "source": [
    "file_path = '/home/think/Desktop/TESIS/test_runs/templates/global_test.json'\n",
    "with open(file_path, 'r') as file:\n",
    "    config = json.load(file)\n",
    "\n",
    "#config['run_mode']\n",
    "warden = config['warden']\n",
    "shared_parameters = config['shared_parameters']\n",
    "models = config['models']\n",
    "\n",
    "# Extract the variables we need from the shared_parameters\n",
    "test_number = shared_parameters[\"test_number\"]\n",
    "number_of_child_systems = shared_parameters[\"number_of_child_systems\"]  \n",
    "#t_span = shared_parameters[\"t_span\"]  \n",
    "#t_span = (t_span[0], t_span[1]) \n",
    "t_span = tuple(shared_parameters[\"t_span\"])\n",
    "num_points = shared_parameters[\"num_points\"]  \n",
    "initial_conditions = shared_parameters[\"initial_conditions\"]  \n",
    "t_eval = np.linspace(t_span[0], t_span[1], num_points)\n",
    "\n",
    "# Initial conditions for each system\n",
    "systems_initial_dict = ic_gen(initial_conditions, number_of_child_systems)"
   ]
  },
  {
   "cell_type": "code",
   "execution_count": null,
   "metadata": {},
   "outputs": [],
   "source": [
    "# Here we decide which model is allowed to be muahahaha\n",
    "for key, value in warden.items():\n",
    "    if value == True:\n",
    "        parent_model = key\n",
    "        # Extracting parameters (and them ranges)\n",
    "        params = {\n",
    "            key: {\"min\": value[0], \"max\": value[1]} \n",
    "            for key, value in models[key][\"params\"].items()\n",
    "            }\n",
    "        # Parameters for each system\n",
    "        systems_params_dict = params_gen(params, number_of_child_systems)\n",
    "        for i, ((_, v1), (_, v2)) in enumerate(zip(systems_params_dict.items(), systems_initial_dict.items())):\n",
    "\n",
    "            # Initialize the Binder object for dynamic function import\n",
    "            binder = Binder(module_name=f\"systems.{parent_model}\", \n",
    "                            function_name=parent_model, \n",
    "                            params=v1)\n",
    "            \n",
    "            # Import the module\n",
    "            binder.import_module()\n",
    "            \n",
    "            # Prepare the function\n",
    "            fixed_function = binder.fixer()\n",
    "            \n",
    "            if fixed_function:  \n",
    "                # Now we have the fixed function ready, so we can pass it to Sistema\n",
    "                sistema = Sistema(f=fixed_function, \n",
    "                                    y0=v2, \n",
    "                                    t=t_eval, \n",
    "                                    metodo='RK45')\n",
    "                \n",
    "                # Solve the system\n",
    "                sistema.resolver()\n",
    "                sistema.graficar(tipo='3d', guardar=False, show_plot=True)\n",
    "                # Get the DataFrame for the solution\n",
    "                #sistema.csv_or_dataframe(f\"/home/think/Desktop/TESIS/test_runs/test_{str(test_number)}/{i}.csv\")\n",
    "\n",
    "    else:\n",
    "        pass"
   ]
  },
  {
   "cell_type": "markdown",
   "metadata": {},
   "source": [
    "### Nah mano, la wea esta se tarda years"
   ]
  },
  {
   "cell_type": "code",
   "execution_count": null,
   "metadata": {},
   "outputs": [],
   "source": [
    "import numpy as np\n",
    "from data_generation.tsdg import Sistema as sys\n",
    "from data_generation.binder import Binder \n",
    "\n",
    "# Parameters\n",
    "sigma_val = 10.0\n",
    "beta_val = 8.0 / 3.0\n",
    "rho_val = 28.0\n",
    "params = (sigma_val, beta_val, rho_val)\n",
    "# Use Binder to fix parameters\n",
    "binder = Binder(\"systems.lorenz63\", \"lorenz63\", params)\n",
    "binder.import_module()\n",
    "lorenz_fixed = binder.fixer()  # Now this is a partially applied function\n",
    "\n",
    "# Time range\n",
    "t = np.linspace(0, 105, 735)\n",
    "\n",
    "# Initial conditions\n",
    "y0 = [1.0, 1.0, 1.0]\n",
    "\n",
    "# Solve the system\n",
    "edo = sys(lorenz_fixed, y0=y0, t=t, metodo=\"RK45\")\n",
    "edo.resolver()\n",
    "edo.graficar(tipo='series', guardar=False, show_plot=True)"
   ]
  },
  {
   "cell_type": "code",
   "execution_count": null,
   "metadata": {},
   "outputs": [],
   "source": [
    "import numpy as np\n",
    "from data_generation.tsdg import Sistema as sys\n",
    "from data_generation.binder import Binder \n",
    "\n",
    "# Parameters\n",
    "a = 1.1\n",
    "b = 0.9\n",
    "c = 0.7\n",
    "d = 4\n",
    "e = 0.3\n",
    "f = 0.2\n",
    "params = (a, b, c, d, e, f)\n",
    "# Use Binder to fix parameters\n",
    "binder = Binder(\"systems.aizawa\", \"aizawa\", params)\n",
    "binder.import_module()\n",
    "aizawa_fixed = binder.fixer()  # Now this is a partially applied function\n",
    "\n",
    "# Time range\n",
    "t = np.linspace(0, 105, 735)\n",
    "\n",
    "# Initial conditions\n",
    "y0 = [1.0, 1.0, 1.0]\n",
    "\n",
    "# Solve the system\n",
    "edo = sys(aizawa_fixed, y0=y0, t=t, metodo=\"RK45\")\n",
    "edo.resolver()\n",
    "edo.graficar(tipo='series', guardar=False, show_plot=True)"
   ]
  },
  {
   "cell_type": "code",
   "execution_count": null,
   "metadata": {},
   "outputs": [],
   "source": []
  },
  {
   "cell_type": "code",
   "execution_count": 221,
   "metadata": {},
   "outputs": [
    {
     "name": "stdout",
     "output_type": "stream",
     "text": [
      "/home/think/Desktop/TESIS/test_runs/test_43/aizawa/aizawa_7.csv\n"
     ]
    }
   ],
   "source": [
    "import os\n",
    "parent_model = 'aizawa'\n",
    "test_number = 43\n",
    "i = 7\n",
    "destination_path = f\"/home/think/Desktop/TESIS/test_runs\"\n",
    "ruta = os.path.join(f\"{destination_path}\",f\"test_{test_number}\",f\"{parent_model}\" ,f\"{parent_model}_{i}.csv\")\n",
    "print(ruta)\n",
    "#sistema.csv_or_dataframe(f\"/home/think/Desktop/TESIS/test_runs/test_{str(test_number)}/{i}.csv\")"
   ]
  },
  {
   "cell_type": "code",
   "execution_count": 1,
   "metadata": {},
   "outputs": [],
   "source": [
    "import numpy as np\n",
    "import matplotlib.pyplot as plt\n",
    "import matplotlib.animation as animation\n",
    "from mpl_toolkits.mplot3d import Axes3D\n",
    "from data_generation.tsdg import Sistema as sys\n",
    "from data_generation.binder import Binder \n",
    "\n",
    "# Parameters\n",
    "sigma_val = 10.0\n",
    "beta_val = 8.0 / 3.0\n",
    "rho_val = 28.0\n",
    "params = (sigma_val, beta_val, rho_val)\n",
    "\n",
    "# Use Binder to fix parameters\n",
    "binder = Binder(\"systems.lorenz63\", \"lorenz63\", params)\n",
    "binder.import_module()\n",
    "lorenz_fixed = binder.fixer()  # Partially applied function\n",
    "\n",
    "# Time range\n",
    "t = np.linspace(0, 105, 3000)  # More frames for a smoother animation\n",
    "\n",
    "# Initial conditions\n",
    "y0 = [1.0, 1.0, 1.0]\n",
    "\n",
    "# Solve the system\n",
    "edo = sys(lorenz_fixed, y0=y0, t=t, metodo=\"RK45\")\n",
    "edo.resolver()\n",
    "sol = edo.solucion  # Solution (assuming it's stored as `sol` in your `Sistema` class)\n",
    "\n"
   ]
  }
 ],
 "metadata": {
  "kernelspec": {
   "display_name": "base",
   "language": "python",
   "name": "python3"
  },
  "language_info": {
   "codemirror_mode": {
    "name": "ipython",
    "version": 3
   },
   "file_extension": ".py",
   "mimetype": "text/x-python",
   "name": "python",
   "nbconvert_exporter": "python",
   "pygments_lexer": "ipython3",
   "version": "3.12.4"
  }
 },
 "nbformat": 4,
 "nbformat_minor": 2
}
