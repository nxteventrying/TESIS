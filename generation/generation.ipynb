{
 "cells": [
  {
   "cell_type": "code",
   "execution_count": 7,
   "metadata": {},
   "outputs": [],
   "source": [
    "import json\n",
    "import numpy as np\n",
    "from utils.helpers import sys_params_gen as params_gen\n",
    "from utils.helpers import initial_conditions_gen as ic_gen\n",
    "from data_generation.binder import Binder  \n",
    "from data_generation.tsdg import Sistema  \n",
    "import os\n",
    "import time"
   ]
  },
  {
   "cell_type": "code",
   "execution_count": 8,
   "metadata": {},
   "outputs": [],
   "source": [
    "file_path = '/home/think/Desktop/TESIS/test_runs/templates/global_test.json'\n",
    "destination_path = \"/home/think/Desktop/TESIS/test_runs\""
   ]
  },
  {
   "cell_type": "code",
   "execution_count": 13,
   "metadata": {},
   "outputs": [],
   "source": [
    "def genesis_bulk_global(file_path, destination_path):\n",
    "\n",
    "    with open(file_path, 'r') as file:\n",
    "        config = json.load(file)\n",
    "    # Control variables\n",
    "    config['run_mode']\n",
    "    warden = config['warden']\n",
    "    shared_parameters = config['shared_parameters']\n",
    "    models = config['models']\n",
    "\n",
    "    # Extract the variables we need from the shared_parameters\n",
    "    test_number = shared_parameters[\"test_number\"]\n",
    "    number_of_child_systems = shared_parameters[\"number_of_child_systems\"]  \n",
    "    #t_span = shared_parameters[\"t_span\"]  \n",
    "    #t_span = (t_span[0], t_span[1]) \n",
    "    t_span = tuple(shared_parameters[\"t_span\"])\n",
    "    num_points = shared_parameters[\"num_points\"]  \n",
    "    initial_conditions = shared_parameters[\"initial_conditions\"]  \n",
    "    t_eval = np.linspace(t_span[0], t_span[1], num_points)\n",
    "\n",
    "    # Initial conditions for each system\n",
    "    systems_initial_dict = ic_gen(initial_conditions, number_of_child_systems)\n",
    "\n",
    "    # Here we decide which model is allowed to be muahahaha\n",
    "    for key, value in warden.items():\n",
    "        if value == True:\n",
    "            parent_model = key\n",
    "            # Extracting parameters (and them ranges)\n",
    "            params = {\n",
    "                key: {\"min\": value[0], \"max\": value[1]} \n",
    "                for key, value in models[key][\"params\"].items()\n",
    "                }\n",
    "            # Parameters for each system\n",
    "            systems_params_dict = params_gen(params, number_of_child_systems)\n",
    "            for i, ((_, v1), (_, v2)) in enumerate(zip(systems_params_dict.items(), systems_initial_dict.items())):\n",
    "            \n",
    "                # Initialize the Binder object for dynamic function import\n",
    "                binder = Binder(module_name=f\"systems.{parent_model}\", \n",
    "                                function_name=parent_model, \n",
    "                                params=v1)\n",
    "                \n",
    "                # Import the module\n",
    "                binder.import_module()\n",
    "                \n",
    "                # Prepare the function\n",
    "                fixed_function = binder.fixer()\n",
    "                \n",
    "                if fixed_function:  \n",
    "                    # Now we have the fixed function ready, so we can pass it to Sistema\n",
    "                    sistema = Sistema(f=fixed_function, \n",
    "                                        y0=v2, \n",
    "                                        t=t_eval, \n",
    "                                        metodo='RK45')\n",
    "                    \n",
    "                    # Solve the system\n",
    "                    sistema.resolver()\n",
    "                    # Display a cutie plot\n",
    "                    sistema.graficar(tipo='series', guardar=False, show_plot=True)\n",
    "                    # Get the DataFrame for the solution\n",
    "                    ruta = os.path.join(f\"{destination_path}\",f\"test_{test_number}\",f\"{parent_model}\" ,f\"{parent_model}_{i}.csv\")\n",
    "                    #os.makedirs(os.path.dirname(ruta), exist_ok=True)  # Create directory if it doesn't exist\n",
    "                    #sistema.csv_or_dataframe(ruta)\n",
    "                    #sistema.atractor_animation()\n",
    "                    print(f'{parent_model}_{i} has been generated \\n at {ruta}')"
   ]
  },
  {
   "cell_type": "code",
   "execution_count": null,
   "metadata": {},
   "outputs": [],
   "source": [
    "genesis_bulk_global(file_path,destination_path)"
   ]
  },
  {
   "cell_type": "code",
   "execution_count": 1,
   "metadata": {},
   "outputs": [
    {
     "name": "stdout",
     "output_type": "stream",
     "text": [
      "Requirement already satisfied: tsfresh in /home/think/anaconda3/lib/python3.12/site-packages (0.21.0)\n",
      "Requirement already satisfied: requests>=2.9.1 in /home/think/anaconda3/lib/python3.12/site-packages (from tsfresh) (2.32.2)\n",
      "Requirement already satisfied: numpy>=1.15.1 in /home/think/anaconda3/lib/python3.12/site-packages (from tsfresh) (1.26.4)\n",
      "Requirement already satisfied: pandas>=0.25.0 in /home/think/anaconda3/lib/python3.12/site-packages (from tsfresh) (2.2.2)\n",
      "Requirement already satisfied: statsmodels>=0.13 in /home/think/anaconda3/lib/python3.12/site-packages (from tsfresh) (0.14.2)\n",
      "Requirement already satisfied: patsy>=0.4.1 in /home/think/anaconda3/lib/python3.12/site-packages (from tsfresh) (0.5.6)\n",
      "Requirement already satisfied: pywavelets in /home/think/anaconda3/lib/python3.12/site-packages (from tsfresh) (1.5.0)\n",
      "Requirement already satisfied: scikit-learn>=0.22.0 in /home/think/anaconda3/lib/python3.12/site-packages (from tsfresh) (1.6.1)\n",
      "Requirement already satisfied: tqdm>=4.10.0 in /home/think/anaconda3/lib/python3.12/site-packages (from tsfresh) (4.66.4)\n",
      "Requirement already satisfied: stumpy>=1.7.2 in /home/think/anaconda3/lib/python3.12/site-packages (from tsfresh) (1.13.0)\n",
      "Requirement already satisfied: cloudpickle in /home/think/anaconda3/lib/python3.12/site-packages (from tsfresh) (2.2.1)\n",
      "Requirement already satisfied: scipy>=1.14.0 in /home/think/anaconda3/lib/python3.12/site-packages (from tsfresh) (1.15.1)\n",
      "Requirement already satisfied: python-dateutil>=2.8.2 in /home/think/anaconda3/lib/python3.12/site-packages (from pandas>=0.25.0->tsfresh) (2.9.0.post0)\n",
      "Requirement already satisfied: pytz>=2020.1 in /home/think/anaconda3/lib/python3.12/site-packages (from pandas>=0.25.0->tsfresh) (2024.1)\n",
      "Requirement already satisfied: tzdata>=2022.7 in /home/think/anaconda3/lib/python3.12/site-packages (from pandas>=0.25.0->tsfresh) (2023.3)\n",
      "Requirement already satisfied: six in /home/think/anaconda3/lib/python3.12/site-packages (from patsy>=0.4.1->tsfresh) (1.16.0)\n",
      "Requirement already satisfied: charset-normalizer<4,>=2 in /home/think/anaconda3/lib/python3.12/site-packages (from requests>=2.9.1->tsfresh) (2.0.4)\n",
      "Requirement already satisfied: idna<4,>=2.5 in /home/think/anaconda3/lib/python3.12/site-packages (from requests>=2.9.1->tsfresh) (3.7)\n",
      "Requirement already satisfied: urllib3<3,>=1.21.1 in /home/think/anaconda3/lib/python3.12/site-packages (from requests>=2.9.1->tsfresh) (2.2.2)\n",
      "Requirement already satisfied: certifi>=2017.4.17 in /home/think/anaconda3/lib/python3.12/site-packages (from requests>=2.9.1->tsfresh) (2025.1.31)\n",
      "Requirement already satisfied: joblib>=1.2.0 in /home/think/anaconda3/lib/python3.12/site-packages (from scikit-learn>=0.22.0->tsfresh) (1.4.2)\n",
      "Requirement already satisfied: threadpoolctl>=3.1.0 in /home/think/anaconda3/lib/python3.12/site-packages (from scikit-learn>=0.22.0->tsfresh) (3.6.0)\n",
      "Requirement already satisfied: packaging>=21.3 in /home/think/anaconda3/lib/python3.12/site-packages (from statsmodels>=0.13->tsfresh) (23.2)\n",
      "Requirement already satisfied: numba>=0.57.1 in /home/think/anaconda3/lib/python3.12/site-packages (from stumpy>=1.7.2->tsfresh) (0.59.1)\n",
      "Requirement already satisfied: llvmlite<0.43,>=0.42.0dev0 in /home/think/anaconda3/lib/python3.12/site-packages (from numba>=0.57.1->stumpy>=1.7.2->tsfresh) (0.42.0)\n",
      "Note: you may need to restart the kernel to use updated packages.\n"
     ]
    }
   ],
   "source": [
    "pip install tsfresh"
   ]
  }
 ],
 "metadata": {
  "kernelspec": {
   "display_name": "base",
   "language": "python",
   "name": "python3"
  },
  "language_info": {
   "codemirror_mode": {
    "name": "ipython",
    "version": 3
   },
   "file_extension": ".py",
   "mimetype": "text/x-python",
   "name": "python",
   "nbconvert_exporter": "python",
   "pygments_lexer": "ipython3",
   "version": "3.12.4"
  }
 },
 "nbformat": 4,
 "nbformat_minor": 2
}
